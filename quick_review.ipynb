{
 "cells": [
  {
   "cell_type": "markdown",
   "metadata": {},
   "source": [
    "<div><center><p style=\"height:50px;background-color:#000033;font-size:20px;color:white\">Functions:🔢🔤 Assigning default value </p></center></div>"
   ]
  },
  {
   "cell_type": "code",
   "execution_count": 4,
   "metadata": {},
   "outputs": [
    {
     "name": "stdout",
     "output_type": "stream",
     "text": [
      "15\n"
     ]
    }
   ],
   "source": [
    "def sum(num1,num2=10):\n",
    "    #num2 is default value\n",
    "    age = num1 + num2\n",
    "    return age\n",
    "     \n",
    "    \n",
    "print(sum(5)) \n",
    "  "
   ]
  },
  {
   "cell_type": "markdown",
   "metadata": {},
   "source": [
    "<div><center><p style=\"height:50px;background-color:#000033;font-size:20px;color:white\">positional argument , also called required argument </p></center></div>"
   ]
  },
  {
   "cell_type": "code",
   "execution_count": 5,
   "metadata": {},
   "outputs": [
    {
     "data": {
      "text/plain": [
       "6"
      ]
     },
     "execution_count": 5,
     "metadata": {},
     "output_type": "execute_result"
    }
   ],
   "source": [
    "def mul(x,y):\n",
    "    gets =x*y\n",
    "    return gets\n",
    "mul(2,3)"
   ]
  },
  {
   "cell_type": "code",
   "execution_count": 1,
   "metadata": {},
   "outputs": [
    {
     "name": "stdout",
     "output_type": "stream",
     "text": [
      "9\n"
     ]
    }
   ],
   "source": [
    "def abc(a,b):\n",
    "    return a+b\n",
    "print(abc(a=2 , b=7))"
   ]
  },
  {
   "cell_type": "code",
   "execution_count": 7,
   "metadata": {},
   "outputs": [
    {
     "name": "stdout",
     "output_type": "stream",
     "text": [
      "Printed successfully "
     ]
    }
   ],
   "source": [
    "price = 50\n",
    "try:\n",
    "    price = price/0\n",
    "except ZeroDivisionError:\n",
    "    print(\"cannot divide by 0\", end = '')\n",
    "else:\n",
    "    print(\"Printed successfully \", end='')\n",
    "try:\n",
    "    price = price/5\n",
    "except:\n",
    "    print(\"inside exception block\", end = '')                "
   ]
  },
  {
   "cell_type": "markdown",
   "metadata": {},
   "source": [
    "<div><center><p style=\"height:50px;background-color:#000033;font-size:20px;color:white\">while calling functions you must have to pass them otherwise it will throw 🤭error</p></center></div>"
   ]
  },
  {
   "cell_type": "code",
   "execution_count": 8,
   "metadata": {},
   "outputs": [
    {
     "ename": "TypeError",
     "evalue": "mul() missing 2 required positional arguments: 'x' and 'y'",
     "output_type": "error",
     "traceback": [
      "\u001b[1;31m---------------------------------------------------------------------------\u001b[0m",
      "\u001b[1;31mTypeError\u001b[0m                                 Traceback (most recent call last)",
      "\u001b[1;32md:\\downloads-d\\ani\\quick_review.ipynb Cell 8\u001b[0m in \u001b[0;36m<cell line: 1>\u001b[1;34m()\u001b[0m\n\u001b[1;32m----> <a href='vscode-notebook-cell:/d%3A/downloads-d/ani/quick_review.ipynb#W5sZmlsZQ%3D%3D?line=0'>1</a>\u001b[0m mul()\n",
      "\u001b[1;31mTypeError\u001b[0m: mul() missing 2 required positional arguments: 'x' and 'y'"
     ]
    }
   ],
   "source": [
    "mul()"
   ]
  },
  {
   "cell_type": "markdown",
   "metadata": {},
   "source": [
    "<div><center><p style=\"height:50px;background-color:#000033;font-size:20px;color:white\"> i in case of *args if you does not pass argument it does not throw error</p></center></div>"
   ]
  },
  {
   "cell_type": "code",
   "execution_count": 9,
   "metadata": {},
   "outputs": [
    {
     "name": "stdout",
     "output_type": "stream",
     "text": [
      "<function multiply at 0x0000011E0349C3A0>\n"
     ]
    }
   ],
   "source": [
    "def multiply(*x):\n",
    "    print(multiply)\n",
    "    \n",
    "    \n",
    "    \n",
    "multiply(2,4,6)    "
   ]
  },
  {
   "cell_type": "code",
   "execution_count": null,
   "metadata": {},
   "outputs": [],
   "source": []
  },
  {
   "cell_type": "markdown",
   "metadata": {},
   "source": [
    "<div><center><p style=\"height:50px;background-color:#000033;font-size:20px;color:white\">*args allow you to pass any number of arguments ,👀Note result will be tuple</p></center></div>"
   ]
  },
  {
   "cell_type": "code",
   "execution_count": 10,
   "metadata": {},
   "outputs": [
    {
     "name": "stdout",
     "output_type": "stream",
     "text": [
      "(2, 34, 5)\n"
     ]
    }
   ],
   "source": [
    "def mlt(*args):\n",
    "    print(args)\n",
    "    \n",
    "    \n",
    "mlt(2,34,5)    "
   ]
  },
  {
   "cell_type": "markdown",
   "metadata": {},
   "source": [
    "<div><center><p style=\"height:50px;background-color:#000033;font-size:20px;color:white\">**kwargs allow you to pass any number of keyword arguments ,👀Note result will be 📙Dictionary</p></center></div>"
   ]
  },
  {
   "cell_type": "code",
   "execution_count": 11,
   "metadata": {},
   "outputs": [
    {
     "name": "stdout",
     "output_type": "stream",
     "text": [
      "{'first': 'Ali', 'Second': 'Afnan'}\n"
     ]
    }
   ],
   "source": [
    "def name(**kwargs):\n",
    "    print(kwargs)\n",
    "name(first ='Ali',Second=\"Afnan\")    "
   ]
  },
  {
   "cell_type": "markdown",
   "metadata": {},
   "source": [
    "<div><center><p style=\"height:50px;background-color:#000033;font-size:20px;color:white\">😱can we pass mix of positional , *args ,**kwargs</p></center></div>"
   ]
  },
  {
   "cell_type": "code",
   "execution_count": 12,
   "metadata": {},
   "outputs": [
    {
     "name": "stdout",
     "output_type": "stream",
     "text": [
      "2 (45, 44) {'value': 'ten'}\n"
     ]
    }
   ],
   "source": [
    "def all_in_one(x,*args,**kwargs):\n",
    "    print(x,args,kwargs)\n",
    "all_in_one(2,45,44,value=\"ten\") \n",
    "#note out put 45 and 44 are in tuple , while value is in dictionary   "
   ]
  },
  {
   "cell_type": "markdown",
   "metadata": {},
   "source": [
    "<div><center><p style=\"height:50px;background-color:#000033;font-size:20px;color:white\">🔥using functions as variable</p></center></div>"
   ]
  },
  {
   "cell_type": "code",
   "execution_count": 13,
   "metadata": {},
   "outputs": [
    {
     "name": "stdout",
     "output_type": "stream",
     "text": [
      "16\n",
      "None\n"
     ]
    }
   ],
   "source": [
    "def sum(x , y):\n",
    "    result = x+y\n",
    "    print(result)\n",
    "total = print(sum(12,4))    "
   ]
  },
  {
   "cell_type": "markdown",
   "metadata": {},
   "source": [
    "<div><center><p style=\"height:50px;background-color:#000033;font-size:20px;color:white\">🗺️📌🗾loal vs global</p></center></div>"
   ]
  },
  {
   "cell_type": "code",
   "execution_count": 14,
   "metadata": {},
   "outputs": [
    {
     "name": "stdout",
     "output_type": "stream",
     "text": [
      "24\n",
      "10\n"
     ]
    }
   ],
   "source": [
    "num1 = 10 # num1 is global (note down it is outside of function body)\n",
    "def addition(num1 , num2):\n",
    "    res = num1 + num2\n",
    "    return res\n",
    "print(addition(12,12))\n",
    "print(num1)#num1 is global so available outside function"
   ]
  },
  {
   "cell_type": "code",
   "execution_count": 15,
   "metadata": {},
   "outputs": [
    {
     "ename": "NameError",
     "evalue": "name 'n' is not defined",
     "output_type": "error",
     "traceback": [
      "\u001b[1;31m---------------------------------------------------------------------------\u001b[0m",
      "\u001b[1;31mNameError\u001b[0m                                 Traceback (most recent call last)",
      "\u001b[1;32md:\\downloads-d\\ani\\quick_review.ipynb Cell 22\u001b[0m in \u001b[0;36m<cell line: 5>\u001b[1;34m()\u001b[0m\n\u001b[0;32m      <a href='vscode-notebook-cell:/d%3A/downloads-d/ani/quick_review.ipynb#X25sZmlsZQ%3D%3D?line=2'>3</a>\u001b[0m     \u001b[39mreturn\u001b[39;00m resultant\n\u001b[0;32m      <a href='vscode-notebook-cell:/d%3A/downloads-d/ani/quick_review.ipynb#X25sZmlsZQ%3D%3D?line=3'>4</a>\u001b[0m sumUp(\u001b[39m12\u001b[39m,\u001b[39m13\u001b[39m)\n\u001b[1;32m----> <a href='vscode-notebook-cell:/d%3A/downloads-d/ani/quick_review.ipynb#X25sZmlsZQ%3D%3D?line=4'>5</a>\u001b[0m \u001b[39mprint\u001b[39m(n,n1)\n",
      "\u001b[1;31mNameError\u001b[0m: name 'n' is not defined"
     ]
    }
   ],
   "source": [
    "def sumUp(n, n1):\n",
    "    resultant = n + n1\n",
    "    return resultant\n",
    "sumUp(12,13)\n",
    "print(n,n1)#n and n1 are local so here we cannot get them"
   ]
  },
  {
   "cell_type": "markdown",
   "metadata": {},
   "source": [
    "<div><center><p style=\"height:50px;background-color:#000033;font-size:20px;color:white\">🏛️classes are templates it help us to organize information</p></center></div>"
   ]
  },
  {
   "cell_type": "markdown",
   "metadata": {},
   "source": []
  },
  {
   "cell_type": "code",
   "execution_count": 16,
   "metadata": {},
   "outputs": [
    {
     "name": "stdout",
     "output_type": "stream",
     "text": [
      "<class '__main__.School'>\n"
     ]
    }
   ],
   "source": [
    "class School():\n",
    "    def __init__(self , name,course):\n",
    "        self.name = name\n",
    "        self.course = course\n",
    "    def courses(self):\n",
    "        print(\"school name is =\"+self.name+\" and now available course is \"+ self.course)\n",
    "        \n",
    "        \n",
    "          \n",
    "print(School)\n",
    "\n",
    "# note output we get only class definition not any object    "
   ]
  },
  {
   "cell_type": "code",
   "execution_count": null,
   "metadata": {},
   "outputs": [],
   "source": []
  },
  {
   "cell_type": "code",
   "execution_count": 17,
   "metadata": {},
   "outputs": [
    {
     "name": "stdout",
     "output_type": "stream",
     "text": [
      "school name is =iets and now available course is cs\n"
     ]
    }
   ],
   "source": [
    "grammer_school = School('iets',\"cs\")\n",
    "grammer_school.courses()\n",
    "\n",
    "\n",
    "\n",
    "\n",
    "\n",
    "# now we get object as we create grammer_achool instance\n"
   ]
  },
  {
   "cell_type": "markdown",
   "metadata": {},
   "source": [
    "<div><center><p style=\"height:50px;background-color:#000033;font-size:20px;color:white\">🗃️📂📼Data Files</p></center></div>"
   ]
  },
  {
   "cell_type": "code",
   "execution_count": null,
   "metadata": {},
   "outputs": [],
   "source": [
    "with open('wish_to_write.txt','w') as wf:\n",
    "    # wf is handler\n",
    "    wf.write(\"now you can write down anythong you want\")"
   ]
  },
  {
   "cell_type": "markdown",
   "metadata": {},
   "source": [
    "<div><center><p style=\"height:50px;background-color:#000033;font-size:20px;color:white\">🗃️we can get data from variables also</p></center></div>"
   ]
  },
  {
   "cell_type": "code",
   "execution_count": null,
   "metadata": {},
   "outputs": [],
   "source": [
    "name = \"data handling\"\n",
    "with open('f.txt','w')as f1:\n",
    "    f1.write(name)\n",
    "    #here we get text from name variable\n",
    "    "
   ]
  },
  {
   "cell_type": "markdown",
   "metadata": {},
   "source": [
    "<div><center><p style=\"height:50px;background-color:#000033;font-size:20px;color:white\">🗒️📓Retrieving data </p></center></div>"
   ]
  },
  {
   "cell_type": "code",
   "execution_count": null,
   "metadata": {},
   "outputs": [],
   "source": [
    "with open('f.txt','r')as rr:\n",
    "    here_it_is_to_read=rr.read()\n",
    "print(here_it_is_to_read)    \n",
    "# get the value in variable here_it_is    "
   ]
  },
  {
   "cell_type": "markdown",
   "metadata": {},
   "source": [
    "<div><center><p style=\"height:50px;background-color:#000033;font-size:20px;color:white\">🗒️📙how to append</p></center></div>"
   ]
  },
  {
   "cell_type": "code",
   "execution_count": null,
   "metadata": {},
   "outputs": [],
   "source": [
    "with open('appending.txt','a') as ap:\n",
    "    ap.write(\"\\n it has to append\")\n",
    "    "
   ]
  },
  {
   "cell_type": "markdown",
   "metadata": {},
   "source": [
    "<div><center><p style=\"height:50px;background-color:#000033;font-size:20px;color:white\">🗒️last action must be performed is close file</p></center></div>"
   ]
  },
  {
   "cell_type": "markdown",
   "metadata": {},
   "source": [
    "##  heading"
   ]
  },
  {
   "cell_type": "markdown",
   "metadata": {},
   "source": [
    "<div style=\"height:150px;background-color:#000033;font-size:15px;color:white\">r - 🗒️Read - Default value. Opens a file for reading, error if the file does not exist</br></br>\n",
    "a - 🥛Append - Opens a file for appending, creates the file if it does not exist</br></br>\n",
    "w - 📝Write - Opens a file for writing, creates the file if it does not exist</br></br>\n",
    "x - 📼Create - Creates the specified file, returns an error if the file exists </div>\n",
    "\n",
    "\n"
   ]
  }
 ],
 "metadata": {
  "kernelspec": {
   "display_name": "Python 3.10.4 64-bit",
   "language": "python",
   "name": "python3"
  },
  "language_info": {
   "codemirror_mode": {
    "name": "ipython",
    "version": 3
   },
   "file_extension": ".py",
   "mimetype": "text/x-python",
   "name": "python",
   "nbconvert_exporter": "python",
   "pygments_lexer": "ipython3",
   "version": "3.10.4"
  },
  "orig_nbformat": 4,
  "vscode": {
   "interpreter": {
    "hash": "26de051ba29f2982a8de78e945f0abaf191376122a1563185a90213a26c5da77"
   }
  }
 },
 "nbformat": 4,
 "nbformat_minor": 2
}
